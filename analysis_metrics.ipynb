{
 "cells": [
  {
   "metadata": {},
   "cell_type": "markdown",
   "source": [
    "# Анализ метрик\n",
    "\n",
    "На входе данные в формате csv:\n",
    "- `ts`: время получения данных в формате unix timestamp в микросекундах\n",
    "- `value`: значение метрики в формате float\n",
    "\n",
    "На выходе:\n",
    "- графики Plotly\n",
    "- анализ данных\n",
    "- статистика\n"
   ],
   "id": "16ee651513a2acd6"
  },
  {
   "metadata": {
    "ExecuteTime": {
     "end_time": "2025-01-27T12:24:50.319579Z",
     "start_time": "2025-01-27T12:24:42.434313Z"
    }
   },
   "cell_type": "code",
   "source": [
    "# Загрузка данных\n",
    "import pandas as pd\n",
    "from pathlib import Path\n",
    "pd.set_option('display.float_format', '{:.8f}'.format)\n",
    "# Путь к файлу метрик\n",
    "DATA_PATH = Path(\"data\") / \"metrics/t1.csv\"\n",
    "\n",
    "# Загрузка данных\n",
    "# ts;value\n",
    "# 1737558127500139;16.00000000\n",
    "# 1737558127501114;653722.00000000\n",
    "# 1737558128155640;18.00000000\n",
    "\n",
    "data = pd.read_csv(DATA_PATH, delimiter=\";\")\n",
    "data['value'] = data['value'].astype(int)"
   ],
   "id": "2ee1ac24dd8d05cf",
   "outputs": [],
   "execution_count": 16
  },
  {
   "metadata": {
    "ExecuteTime": {
     "end_time": "2025-01-27T12:24:54.680127Z",
     "start_time": "2025-01-27T12:24:50.327686Z"
    }
   },
   "cell_type": "code",
   "source": [
    "# Предобработка данных\n",
    "# Преобразуем ts в формат datetime\n",
    "data['ts'] = pd.to_datetime(data['ts'], unit='us')\n",
    "\n",
    "# Сортируем данные по ts\n",
    "data = data.sort_values(by='ts').reset_index(drop=True)"
   ],
   "id": "5290eff4f1d8e5c2",
   "outputs": [],
   "execution_count": 17
  },
  {
   "metadata": {
    "ExecuteTime": {
     "end_time": "2025-01-27T12:24:54.704816Z",
     "start_time": "2025-01-27T12:24:54.701027Z"
    }
   },
   "cell_type": "code",
   "source": "data",
   "id": "45ccb02ee773306e",
   "outputs": [
    {
     "data": {
      "text/plain": [
       "                                 ts   value\n",
       "0        2025-01-24 09:57:47.741697      10\n",
       "1        2025-01-24 09:57:47.742703  655587\n",
       "2        2025-01-24 09:57:48.398392      16\n",
       "3        2025-01-24 09:57:48.401145      16\n",
       "4        2025-01-24 09:57:48.401178      12\n",
       "...                             ...     ...\n",
       "77920644 2025-01-26 23:59:59.982223      20\n",
       "77920645 2025-01-26 23:59:59.983435      13\n",
       "77920646 2025-01-26 23:59:59.990568      17\n",
       "77920647 2025-01-26 23:59:59.993821      32\n",
       "77920648 2025-01-26 23:59:59.996126      15\n",
       "\n",
       "[77920649 rows x 2 columns]"
      ],
      "text/html": [
       "<div>\n",
       "<style scoped>\n",
       "    .dataframe tbody tr th:only-of-type {\n",
       "        vertical-align: middle;\n",
       "    }\n",
       "\n",
       "    .dataframe tbody tr th {\n",
       "        vertical-align: top;\n",
       "    }\n",
       "\n",
       "    .dataframe thead th {\n",
       "        text-align: right;\n",
       "    }\n",
       "</style>\n",
       "<table border=\"1\" class=\"dataframe\">\n",
       "  <thead>\n",
       "    <tr style=\"text-align: right;\">\n",
       "      <th></th>\n",
       "      <th>ts</th>\n",
       "      <th>value</th>\n",
       "    </tr>\n",
       "  </thead>\n",
       "  <tbody>\n",
       "    <tr>\n",
       "      <th>0</th>\n",
       "      <td>2025-01-24 09:57:47.741697</td>\n",
       "      <td>10</td>\n",
       "    </tr>\n",
       "    <tr>\n",
       "      <th>1</th>\n",
       "      <td>2025-01-24 09:57:47.742703</td>\n",
       "      <td>655587</td>\n",
       "    </tr>\n",
       "    <tr>\n",
       "      <th>2</th>\n",
       "      <td>2025-01-24 09:57:48.398392</td>\n",
       "      <td>16</td>\n",
       "    </tr>\n",
       "    <tr>\n",
       "      <th>3</th>\n",
       "      <td>2025-01-24 09:57:48.401145</td>\n",
       "      <td>16</td>\n",
       "    </tr>\n",
       "    <tr>\n",
       "      <th>4</th>\n",
       "      <td>2025-01-24 09:57:48.401178</td>\n",
       "      <td>12</td>\n",
       "    </tr>\n",
       "    <tr>\n",
       "      <th>...</th>\n",
       "      <td>...</td>\n",
       "      <td>...</td>\n",
       "    </tr>\n",
       "    <tr>\n",
       "      <th>77920644</th>\n",
       "      <td>2025-01-26 23:59:59.982223</td>\n",
       "      <td>20</td>\n",
       "    </tr>\n",
       "    <tr>\n",
       "      <th>77920645</th>\n",
       "      <td>2025-01-26 23:59:59.983435</td>\n",
       "      <td>13</td>\n",
       "    </tr>\n",
       "    <tr>\n",
       "      <th>77920646</th>\n",
       "      <td>2025-01-26 23:59:59.990568</td>\n",
       "      <td>17</td>\n",
       "    </tr>\n",
       "    <tr>\n",
       "      <th>77920647</th>\n",
       "      <td>2025-01-26 23:59:59.993821</td>\n",
       "      <td>32</td>\n",
       "    </tr>\n",
       "    <tr>\n",
       "      <th>77920648</th>\n",
       "      <td>2025-01-26 23:59:59.996126</td>\n",
       "      <td>15</td>\n",
       "    </tr>\n",
       "  </tbody>\n",
       "</table>\n",
       "<p>77920649 rows × 2 columns</p>\n",
       "</div>"
      ]
     },
     "execution_count": 18,
     "metadata": {},
     "output_type": "execute_result"
    }
   ],
   "execution_count": 18
  },
  {
   "metadata": {
    "ExecuteTime": {
     "end_time": "2025-01-27T12:25:01.388597Z",
     "start_time": "2025-01-27T12:24:54.740387Z"
    }
   },
   "cell_type": "code",
   "source": [
    "# Построим график используя Matplotlib, где на оси X будет время, а на оси Y - значение метрики\n",
    "\n",
    "import matplotlib.pyplot as plt\n",
    "\n",
    "plt.figure(figsize=(15, 5))\n",
    "plt.plot(data['ts'], data['value'])\n",
    "plt.xlabel(f'Time')\n",
    "plt.ylabel('Value, микросекунды')\n",
    "plt.title(f'Metric {DATA_PATH.name}')\n",
    "\n",
    "plt.show()\n"
   ],
   "id": "19e4ad2ede123e55",
   "outputs": [
    {
     "data": {
      "text/plain": [
       "<Figure size 1500x500 with 1 Axes>"
      ],
      "image/png": "[encoded data removed]"
     },
     "metadata": {},
     "output_type": "display_data"
    }
   ],
   "execution_count": 19
  },
  {
   "metadata": {
    "ExecuteTime": {
     "end_time": "2025-01-27T12:25:01.497808Z",
     "start_time": "2025-01-27T12:25:01.495938Z"
    }
   },
   "cell_type": "code",
   "source": "# Отсортируем по значению метрики",
   "id": "c3ca1098a2202059",
   "outputs": [],
   "execution_count": 20
  },
  {
   "metadata": {
    "ExecuteTime": {
     "end_time": "2025-01-27T12:25:06.594690Z",
     "start_time": "2025-01-27T12:25:01.597566Z"
    }
   },
   "cell_type": "code",
   "source": [
    "# Верхние 10 значений метрики\n",
    "data['value'].sort_values(ascending=False).head(10)"
   ],
   "id": "ee02b55f4963e9e7",
   "outputs": [
    {
     "data": {
      "text/plain": [
       "1           655587\n",
       "6989110      67285\n",
       "73040312     60180\n",
       "55209620     56818\n",
       "43180693     53025\n",
       "21539338     47832\n",
       "16902406     47628\n",
       "63256784     41345\n",
       "38624157     38896\n",
       "6975542      38367\n",
       "Name: value, dtype: int64"
      ]
     },
     "execution_count": 21,
     "metadata": {},
     "output_type": "execute_result"
    }
   ],
   "execution_count": 21
  },
  {
   "metadata": {
    "ExecuteTime": {
     "end_time": "2025-01-27T12:25:08.710744Z",
     "start_time": "2025-01-27T12:25:06.611798Z"
    }
   },
   "cell_type": "code",
   "source": [
    "# Отобразим статистику по метрике\n",
    "\n",
    "print(\"Сервер:\", DATA_PATH.name)\n",
    "print(\"Медиана:\", data['value'].median())\n",
    "print(\"Среднее:\", data['value'].mean())\n",
    "print(\"Максимум:\", data['value'].max())\n",
    "print(\"Минимум:\", data['value'].min())\n",
    "print(\"Стандартное отклонение:\", data['value'].std())\n",
    "print(\"Описательная статистика:\")\n",
    "data['value'].describe()"
   ],
   "id": "ca61ae8e76315ff6",
   "outputs": [
    {
     "name": "stdout",
     "output_type": "stream",
     "text": [
      "Сервер: t1.csv\n",
      "Медиана: 21.0\n",
      "Среднее: 26.735530655038563\n",
      "Максимум: 655587\n",
      "Минимум: 5\n",
      "Стандартное отклонение: 309.40137374179506\n",
      "Описательная статистика:\n"
     ]
    },
    {
     "data": {
      "text/plain": [
       "count   77920649.00000000\n",
       "mean          26.73553066\n",
       "std          309.40137374\n",
       "min            5.00000000\n",
       "25%           17.00000000\n",
       "50%           21.00000000\n",
       "75%           26.00000000\n",
       "max       655587.00000000\n",
       "Name: value, dtype: float64"
      ]
     },
     "execution_count": 22,
     "metadata": {},
     "output_type": "execute_result"
    }
   ],
   "execution_count": 22
  }
 ],
 "metadata": {
  "kernelspec": {
   "name": "python3",
   "language": "python",
   "display_name": "Python 3 (ipykernel)"
  }
 },
 "nbformat": 5,
 "nbformat_minor": 9
}
