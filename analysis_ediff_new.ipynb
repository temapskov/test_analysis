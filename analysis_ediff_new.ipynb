{
 "cells": [
  {
   "metadata": {},
   "cell_type": "markdown",
   "source": "# Анализ Maise данных",
   "id": "406d968a7396f74"
  },
  {
   "metadata": {},
   "cell_type": "markdown",
   "source": [
    "## Загрузка данных\n",
    "\n",
    "### Анализируемые данные\n",
    "- `T1` - данные с сервера T1, где размер буффера 8 мб\n",
    "- `T3` - данные с сервера Т3, где стандартный размер буффера\n",
    "\n",
    "Потоки `trade` и `level` для инструментов `BTCUSDT` и `1000PEPEUSDT` за 18.01.2025"
   ],
   "id": "b04e8ee67a46b8ce"
  },
  {
   "metadata": {
    "jupyter": {
     "is_executing": true
    },
    "ExecuteTime": {
     "start_time": "2025-01-22T10:26:01.628726Z"
    }
   },
   "cell_type": "code",
   "source": [
    "import pandas as pd\n",
    "from pathlib import Path\n",
    "from matplotlib import pyplot as plt\n",
    "\n",
    "# USE_COLS - используемые столбцы\n",
    "# SECTION - секция на бирже\n",
    "# SECURITIES - инструменты\n",
    "# STREAMS - потоки данных\n",
    "RECEIVE_TS = \"receive_ts\"\n",
    "EXCHANGE_TS = \"exchange_ts\"\n",
    "COLUMN = RECEIVE_TS\n",
    "USE_COLS=[COLUMN]\n",
    "SECTION = \"BINANCE_USDM\"\n",
    "SECURITIES = [\"BTCUSDT\", \"1000PEPEUSDT\"]\n",
    "SERVERS = [\"T1\", \"T3\"]\n",
    "STREAMS = [\"trade\", \"level\"]\n",
    "DATA_DIR = Path(\"data\")\n",
    "\n",
    "\n",
    "# Получение путей к данным из /data/{SERVER}/{SECTION}/{SECURITY}/{STREAM}.csv\n",
    "\n",
    "# data_paths = {\n",
    "#     security: {\n",
    "#         stream: {\n",
    "#             server: DATA_DIR / server / SECTION / security / f\"{stream}.csv\"\n",
    "#             for server in SERVERS\n",
    "#         }\n",
    "#         for stream in STREAMS\n",
    "#     }\n",
    "#     for security in SECURITIES\n",
    "# }\n",
    "\n",
    "# Загрузка данных\n",
    "data = pd.read_csv(\"data_t3.csv\")\n",
    "\n",
    "# Преобразуем receive_ts в числовой формат (если это ещё не сделано)\n",
    "data[COLUMN] = pd.to_numeric(data[COLUMN])\n",
    "\n",
    "# Сортируем данные по receive_ts\n",
    "data = data.sort_values(by=COLUMN).reset_index(drop=True)\n",
    "\n",
    "# Вычисляем разницу между соседними значениями\n",
    "data['time_diff'] = data[COLUMN].diff()\n",
    "\n",
    "# Удаляем первую строку, так как разница для неё NaN\n",
    "data = data.dropna(subset=['time_diff'])\n",
    "\n",
    "# Преобразуем receive_ts в секунды (для удобства)\n",
    "data[COLUMN] = pd.to_datetime(data[COLUMN], unit=\"us\")\n",
    "# Построение timeline-графика\n",
    "plt.figure(figsize=(12, 6))\n",
    "\n",
    "# Ось X: receive_ts в секундах, Ось Y: задержка (time_diff)\n",
    "plt.plot(data[COLUMN], data['time_diff'], linestyle='-', color='b', label='Задержка')\n",
    "\n",
    "# Настройка графика\n",
    "plt.title(f'Timeline: Задержка между значениями {COLUMN}')\n",
    "plt.xlabel('Время (секунды)')\n",
    "plt.ylabel('Задержка (микросекунды)')\n",
    "plt.grid(True)\n",
    "plt.legend()\n",
    "\n",
    "# Отображение графика\n",
    "plt.show()\n"
   ],
   "id": "a3bbdc04827ad62",
   "outputs": [
    {
     "name": "stderr",
     "output_type": "stream",
     "text": [
      "/var/folders/tq/qclfykkn1z7_j0yl26mxbscr0000gn/T/ipykernel_82629/2177647635.py:60: UserWarning: Creating legend with loc=\"best\" can be slow with large amounts of data.\n",
      "  plt.tight_layout()\n",
      "/opt/homebrew/Caskroom/miniconda/base/lib/python3.12/site-packages/IPython/core/pylabtools.py:170: UserWarning: Creating legend with loc=\"best\" can be slow with large amounts of data.\n",
      "  fig.canvas.print_figure(bytes_io, **kw)\n"
     ]
    }
   ],
   "execution_count": null
  },
  {
   "metadata": {},
   "cell_type": "markdown",
   "source": [
    "На данном этапе мы загрузили данные с серверов T1 и T3, где размер буффера 8 мб и стандартный размер буффера соответственно. Данные представлены в виде потоков `trade` и `level` для инструментов `BTCUSDT` и `1000PEPEUSDT` за 18.01.2025.\n",
    "\n",
    "Данные можно получить из переменной `data_paths`:\n",
    "например, данные для инструмента `BTCUSDT` и потока `trade` с сервера T1:\n",
    "```python\n",
    "data_paths[\"BTCUSDT\"][\"trade\"][\"T1\"]\n",
    "```"
   ],
   "id": "80d660aef5c8efbc"
  },
  {
   "metadata": {
    "ExecuteTime": {
     "end_time": "2025-01-21T13:06:10.902243Z",
     "start_time": "2025-01-21T13:06:10.471565Z"
    }
   },
   "cell_type": "code",
   "source": [
    "print(\"\\nАнализ разницы:\")\n",
    "print(f\"Средняя разница: {data['time_diff'].mean()}\")\n",
    "print(f\"Медиана разницы: {data['time_diff'].median()}\")\n",
    "print(f\"Минимальная разница: {data['time_diff'].min()}\")\n",
    "print(f\"Максимальная разница: {data['time_diff'].max()}\")\n",
    "print(f\"Стандартное отклонение: {data['time_diff'].std()}\")"
   ],
   "id": "55e5fe029c958aa7",
   "outputs": [
    {
     "name": "stdout",
     "output_type": "stream",
     "text": [
      "\n",
      "Анализ разницы:\n",
      "Средняя разница: 2896.6394972723324\n",
      "Медиана разницы: 2000.0\n",
      "Минимальная разница: 1000.0\n",
      "Максимальная разница: 1654000.0\n",
      "Стандартное отклонение: 2541.0088589730053\n"
     ]
    }
   ],
   "execution_count": 16
  },
  {
   "metadata": {
    "ExecuteTime": {
     "end_time": "2025-01-21T10:57:32.032040Z",
     "start_time": "2025-01-21T10:57:29.212271Z"
    }
   },
   "cell_type": "code",
   "source": [
    "# Загрузим данные в Pandas DataFrame для дальнейшего анализа\n",
    "\n",
    "# data = {\n",
    "#     security: {\n",
    "#         stream: {\n",
    "#             server: pd.read_csv(path, usecols=USE_COLS, delimiter=\";\")\n",
    "#             for server, path in paths.items()\n",
    "#         }\n",
    "#         for stream, paths in paths.items()\n",
    "#     }\n",
    "#     for security, paths in data_paths.items()\n",
    "# }\n",
    "\n",
    "trade_data = pd.read_csv(path, usecols=USE_COLS, delimiter=\";\")\n"
   ],
   "id": "b641dc12cd3d171a",
   "outputs": [],
   "execution_count": 3
  },
  {
   "metadata": {
    "ExecuteTime": {
     "end_time": "2025-01-21T10:59:42.721944Z",
     "start_time": "2025-01-21T10:59:41.264258Z"
    }
   },
   "cell_type": "code",
   "source": [
    "# Пример загруженных данных для T3\n",
    "# Отсортировать от более ранних данных к более поздним\n",
    "\n",
    "trade_data.sort_values(by=\"receive_ts\", ascending=False).head()"
   ],
   "id": "1f7ec7dcf36f1a52",
   "outputs": [
    {
     "data": {
      "text/plain": [
       "                receive_ts\n",
       "4198098   1737244799999830\n",
       "23008879  1737244799998861\n",
       "13795842  1737244799995582\n",
       "32098094  1737244799994604\n",
       "19217876  1737244799990323"
      ],
      "text/html": [
       "<div>\n",
       "<style scoped>\n",
       "    .dataframe tbody tr th:only-of-type {\n",
       "        vertical-align: middle;\n",
       "    }\n",
       "\n",
       "    .dataframe tbody tr th {\n",
       "        vertical-align: top;\n",
       "    }\n",
       "\n",
       "    .dataframe thead th {\n",
       "        text-align: right;\n",
       "    }\n",
       "</style>\n",
       "<table border=\"1\" class=\"dataframe\">\n",
       "  <thead>\n",
       "    <tr style=\"text-align: right;\">\n",
       "      <th></th>\n",
       "      <th>receive_ts</th>\n",
       "    </tr>\n",
       "  </thead>\n",
       "  <tbody>\n",
       "    <tr>\n",
       "      <th>4198098</th>\n",
       "      <td>1737244799999830</td>\n",
       "    </tr>\n",
       "    <tr>\n",
       "      <th>23008879</th>\n",
       "      <td>1737244799998861</td>\n",
       "    </tr>\n",
       "    <tr>\n",
       "      <th>13795842</th>\n",
       "      <td>1737244799995582</td>\n",
       "    </tr>\n",
       "    <tr>\n",
       "      <th>32098094</th>\n",
       "      <td>1737244799994604</td>\n",
       "    </tr>\n",
       "    <tr>\n",
       "      <th>19217876</th>\n",
       "      <td>1737244799990323</td>\n",
       "    </tr>\n",
       "  </tbody>\n",
       "</table>\n",
       "</div>"
      ]
     },
     "execution_count": 8,
     "metadata": {},
     "output_type": "execute_result"
    }
   ],
   "execution_count": 8
  },
  {
   "metadata": {},
   "cell_type": "markdown",
   "source": "",
   "id": "49e8e96840a052e6"
  },
  {
   "metadata": {
    "ExecuteTime": {
     "end_time": "2025-01-21T11:01:23.861599Z",
     "start_time": "2025-01-21T11:01:23.705187Z"
    }
   },
   "cell_type": "code",
   "source": [
    "# Рассчитаем receive_ts_diff для данных на серверах\n",
    "\n",
    "# Отобразим разницу между временем получения данных в миллисекундах\n",
    "trade_data[\"receive_ts_diff\"] = trade_data[\"receive_ts\"].diff()\n",
    "\n",
    "# Пример рассчитанного Jitter\n",
    "trade_data[\"receive_ts_diff\"].dropna().dropna()\n"
   ],
   "id": "781d45092fe15091",
   "outputs": [
    {
     "data": {
      "text/plain": [
       "<bound method Series.min of 1            15756.0\n",
       "2            48538.0\n",
       "3            55461.0\n",
       "4           216866.0\n",
       "5            71729.0\n",
       "              ...   \n",
       "35282005     52573.0\n",
       "35282006     51649.0\n",
       "35282007     52198.0\n",
       "35282008    104694.0\n",
       "35282009     52069.0\n",
       "Name: receive_ts_diff, Length: 35282009, dtype: float64>"
      ]
     },
     "execution_count": 19,
     "metadata": {},
     "output_type": "execute_result"
    }
   ],
   "execution_count": 19
  },
  {
   "metadata": {
    "ExecuteTime": {
     "end_time": "2025-01-21T10:53:31.326195Z",
     "start_time": "2025-01-21T10:53:30.370509Z"
    }
   },
   "cell_type": "code",
   "source": [
    "# Приведем данные к формату datetime\n",
    "\n",
    "trade_data[\"receive_ts\"] = pd.to_datetime(trade_data[\"receive_ts\"], unit=\"us\")\n"
   ],
   "id": "b58eab09b6d4782d",
   "outputs": [],
   "execution_count": 23
  },
  {
   "metadata": {
    "ExecuteTime": {
     "end_time": "2025-01-21T11:00:24.720522Z",
     "start_time": "2025-01-21T11:00:24.648843Z"
    }
   },
   "cell_type": "code",
   "source": [
    "# Пример рассчитанного Jitter\n",
    "trade_data[\"receive_ts_diff\"].max()"
   ],
   "id": "c4581e2f95ff1cc9",
   "outputs": [
    {
     "data": {
      "text/plain": [
       "np.float64(80327103.0)"
      ]
     },
     "execution_count": 15,
     "metadata": {},
     "output_type": "execute_result"
    }
   ],
   "execution_count": 15
  },
  {
   "metadata": {
    "ExecuteTime": {
     "end_time": "2025-01-21T10:46:49.321576Z",
     "start_time": "2025-01-21T10:46:12.773614Z"
    }
   },
   "cell_type": "code",
   "source": [
    "# Построим график receive_ts diff для данных\n",
    "trade_data.plot(x=\"receive_ts\", y=\"receive_ts_diff\", title=f\"Receive_ts diff for T3\")\n"
   ],
   "id": "8dc35f611f83d828",
   "outputs": [
    {
     "data": {
      "text/plain": [
       "<Axes: title={'center': 'Receive_ts diff for T3'}, xlabel='receive_ts'>"
      ]
     },
     "execution_count": 9,
     "metadata": {},
     "output_type": "execute_result"
    },
    {
     "data": {
      "text/plain": [
       "<Figure size 640x480 with 1 Axes>"
      ],
      "image/png": "[encoded data removed]"
     },
     "metadata": {},
     "output_type": "display_data"
    }
   ],
   "execution_count": 9
  },
  {
   "metadata": {
    "ExecuteTime": {
     "end_time": "2025-01-21T10:46:49.793043Z",
     "start_time": "2025-01-21T10:46:49.327350Z"
    }
   },
   "cell_type": "code",
   "source": [
    "# Посчитаем количество значений, которые больше 0.1 и 0.5 и 1 и выведем в таблицу\n",
    "\n",
    "print(\"Server: T1:\")\n",
    "print(f\"Count > 0.01: {trade_data['receive_ts_diff'][trade_data['receive_ts_diff'] > 0.01].count()}\")\n",
    "print(f\"Count > 0.1: {trade_data['receive_ts_diff'][trade_data['receive_ts_diff'] > 0.1].count()}\")\n",
    "print(f\"Count > 0.5: {trade_data['receive_ts_diff'][trade_data['receive_ts_diff'] > 0.5].count()}\")\n",
    "print(f\"Count > 1: {trade_data['receive_ts_diff'][trade_data['receive_ts_diff'] > 1].count()}\")"
   ],
   "id": "7e3fe7f3b8f3f821",
   "outputs": [
    {
     "name": "stdout",
     "output_type": "stream",
     "text": [
      "Server: T1:\n",
      "Count > 0.01: 32973859\n",
      "Count > 0.1: 6587367\n",
      "Count > 0.5: 969746\n",
      "Count > 1: 449215\n"
     ]
    }
   ],
   "execution_count": 10
  },
  {
   "metadata": {
    "ExecuteTime": {
     "end_time": "2025-01-18T18:23:15.357856Z",
     "start_time": "2025-01-18T18:11:30.360945Z"
    }
   },
   "cell_type": "code",
   "source": [
    "# Посчитаем количество значений, аггрегируем их используя count_values и выведем в таблицу и сохраним в csv\n",
    "\n",
    "for security in SECURITIES:\n",
    "    for server in SERVERS:\n",
    "        data = trade_data[security][server]['receive_ts_diff'].value_counts().sort_index()\n",
    "        print(\"Топ 10 частот для %s на %s\" % (security, server))\n",
    "        print(data.sort_values(ascending=False).head(10))\n",
    "        print(\"Хвост 10 частот для %s на %s\" % (security, server))\n",
    "        print(data.tail(30))\n",
    "        # Проанализируем данные\n",
    "        print(\"---\")\n",
    "        data.to_csv(f\"data/output/{security}_{server}.csv\")"
   ],
   "id": "7dde9d686a1cb00",
   "outputs": [
    {
     "name": "stdout",
     "output_type": "stream",
     "text": [
      "Топ 10 частот для BTCUSDT на T1\n",
      "receive_ts_diff\n",
      "6000.0     5672\n",
      "12000.0    3813\n",
      "18000.0    2690\n",
      "24000.0    2392\n",
      "30000.0    1897\n",
      "36000.0    1766\n",
      "6001.0     1636\n",
      "5999.0     1550\n",
      "42000.0    1497\n",
      "48000.0    1432\n",
      "Name: count, dtype: int64\n",
      "Хвост 10 частот для BTCUSDT на T1\n",
      "receive_ts_diff\n",
      "1895991.0    1\n",
      "1896176.0    1\n",
      "1905318.0    1\n",
      "1912697.0    1\n",
      "1919439.0    1\n",
      "1920000.0    1\n",
      "1945007.0    1\n",
      "1946000.0    1\n",
      "1977918.0    1\n",
      "1986001.0    1\n",
      "2011206.0    1\n",
      "2012695.0    1\n",
      "2044882.0    1\n",
      "2062036.0    1\n",
      "2066233.0    1\n",
      "2116137.0    1\n",
      "2126298.0    1\n",
      "2148000.0    1\n",
      "2159651.0    1\n",
      "2218749.0    1\n",
      "2219084.0    1\n",
      "2289000.0    1\n",
      "2316999.0    1\n",
      "2333779.0    1\n",
      "2334096.0    1\n",
      "2342972.0    1\n",
      "2443922.0    1\n",
      "2508869.0    1\n",
      "3083208.0    1\n",
      "5201854.0    1\n",
      "Name: count, dtype: int64\n",
      "---\n",
      "Топ 10 частот для BTCUSDT на T3\n",
      "receive_ts_diff\n",
      "1072.0    140\n",
      "1111.0    128\n",
      "1001.0    124\n",
      "1034.0    121\n",
      "1000.0    120\n",
      "1104.0    120\n",
      "1080.0    120\n",
      "1052.0    119\n",
      "1079.0    119\n",
      "1084.0    118\n",
      "Name: count, dtype: int64\n",
      "Хвост 10 частот для BTCUSDT на T3\n",
      "receive_ts_diff\n",
      "1895284.0    1\n",
      "1896744.0    1\n",
      "1905331.0    1\n",
      "1912940.0    1\n",
      "1918399.0    1\n",
      "1919874.0    1\n",
      "1944161.0    1\n",
      "1945151.0    1\n",
      "1980618.0    1\n",
      "1984337.0    1\n",
      "2012030.0    1\n",
      "2014326.0    1\n",
      "2046968.0    1\n",
      "2063333.0    1\n",
      "2065956.0    1\n",
      "2116263.0    1\n",
      "2123611.0    1\n",
      "2145083.0    1\n",
      "2160609.0    1\n",
      "2218047.0    1\n",
      "2221727.0    1\n",
      "2288622.0    1\n",
      "2316122.0    1\n",
      "2333867.0    1\n",
      "2334817.0    1\n",
      "2341469.0    1\n",
      "2443704.0    1\n",
      "2507638.0    1\n",
      "3083632.0    1\n",
      "5204183.0    1\n",
      "Name: count, dtype: int64\n",
      "---\n",
      "Топ 10 частот для 1000PEPEUSDT на T1\n",
      "receive_ts_diff\n",
      "6000.0     7909\n",
      "12000.0    3644\n",
      "18000.0    2442\n",
      "6001.0     2125\n",
      "24000.0    2113\n",
      "5999.0     2073\n",
      "2991.0     1968\n",
      "9009.0     1862\n",
      "30000.0    1579\n",
      "36000.0    1518\n",
      "Name: count, dtype: int64\n",
      "Хвост 10 частот для 1000PEPEUSDT на T1\n",
      "receive_ts_diff\n",
      "2166990.0    1\n",
      "2179100.0    1\n",
      "2188288.0    1\n",
      "2193000.0    1\n",
      "2193707.0    1\n",
      "2203123.0    1\n",
      "2209048.0    1\n",
      "2212000.0    1\n",
      "2232442.0    1\n",
      "2242064.0    1\n",
      "2249875.0    1\n",
      "2271809.0    1\n",
      "2304573.0    1\n",
      "2307285.0    1\n",
      "2363991.0    1\n",
      "2368654.0    1\n",
      "2381009.0    1\n",
      "2419026.0    1\n",
      "2472232.0    1\n",
      "2602313.0    1\n",
      "2681074.0    1\n",
      "2704271.0    1\n",
      "2957923.0    1\n",
      "2961861.0    1\n",
      "3020688.0    1\n",
      "3211632.0    1\n",
      "3239442.0    1\n",
      "4260172.0    1\n",
      "4940725.0    1\n",
      "5357998.0    1\n",
      "Name: count, dtype: int64\n",
      "---\n",
      "Топ 10 частот для 1000PEPEUSDT на T3\n",
      "receive_ts_diff\n",
      "1040.0    228\n",
      "1069.0    223\n",
      "1037.0    222\n",
      "1024.0    219\n",
      "1038.0    217\n",
      "1043.0    216\n",
      "1080.0    215\n",
      "1036.0    215\n",
      "1106.0    213\n",
      "1049.0    212\n",
      "Name: count, dtype: int64\n",
      "Хвост 10 частот для 1000PEPEUSDT на T3\n",
      "receive_ts_diff\n",
      "2168484.0    1\n",
      "2179193.0    1\n",
      "2187503.0    1\n",
      "2193399.0    1\n",
      "2194728.0    1\n",
      "2203062.0    1\n",
      "2207423.0    1\n",
      "2213040.0    1\n",
      "2232441.0    1\n",
      "2241125.0    1\n",
      "2247211.0    1\n",
      "2272071.0    1\n",
      "2305531.0    1\n",
      "2307493.0    1\n",
      "2366054.0    1\n",
      "2367728.0    1\n",
      "2378826.0    1\n",
      "2421368.0    1\n",
      "2470763.0    1\n",
      "2602661.0    1\n",
      "2681583.0    1\n",
      "2704363.0    1\n",
      "2957710.0    1\n",
      "2961048.0    1\n",
      "3022699.0    1\n",
      "3213024.0    1\n",
      "3241400.0    1\n",
      "4257515.0    1\n",
      "4940397.0    1\n",
      "5356191.0    1\n",
      "Name: count, dtype: int64\n",
      "---\n"
     ]
    }
   ],
   "execution_count": 164
  },
  {
   "metadata": {
    "ExecuteTime": {
     "end_time": "2025-01-18T18:23:15.358436Z",
     "start_time": "2025-01-18T18:11:30.832139Z"
    }
   },
   "cell_type": "code",
   "source": [
    "# Посчитаем количество значений, аггрегируем их используя count_values и выведем в таблицу и сохраним в csv, проанализируем их. Максимальное минимальное и среднее значение\n",
    "for security in SECURITIES:\n",
    "    for server in SERVERS:\n",
    "        data = trade_data[security][server]['receive_ts_diff'].round(3).value_counts().sort_index()\n",
    "        print(\"Топ 10 частот для %s на %s\" % (security, server))\n",
    "        print(data.sort_values(ascending=False).head(10))\n",
    "        print(\"Хвост 10 частот для %s на %s\" % (security, server))\n",
    "        print(data.tail(10))\n",
    "        # Проанализируем данные\n",
    "        print(\"---\")\n",
    "        data.to_csv(f\"data/output/{security}_{server}_1ms.csv\")\n",
    "\n",
    "\n"
   ],
   "id": "bc0581a619b3b81e",
   "outputs": [
    {
     "name": "stdout",
     "output_type": "stream",
     "text": [
      "Топ 10 частот для BTCUSDT на T1\n",
      "receive_ts_diff\n",
      "6000.0     5672\n",
      "12000.0    3813\n",
      "18000.0    2690\n",
      "24000.0    2392\n",
      "30000.0    1897\n",
      "36000.0    1766\n",
      "6001.0     1636\n",
      "5999.0     1550\n",
      "42000.0    1497\n",
      "48000.0    1432\n",
      "Name: count, dtype: int64\n",
      "Хвост 10 частот для BTCUSDT на T1\n",
      "receive_ts_diff\n",
      "2219084.0    1\n",
      "2289000.0    1\n",
      "2316999.0    1\n",
      "2333779.0    1\n",
      "2334096.0    1\n",
      "2342972.0    1\n",
      "2443922.0    1\n",
      "2508869.0    1\n",
      "3083208.0    1\n",
      "5201854.0    1\n",
      "Name: count, dtype: int64\n",
      "---\n",
      "Топ 10 частот для BTCUSDT на T3\n",
      "receive_ts_diff\n",
      "1072.0    140\n",
      "1111.0    128\n",
      "1001.0    124\n",
      "1034.0    121\n",
      "1000.0    120\n",
      "1104.0    120\n",
      "1080.0    120\n",
      "1052.0    119\n",
      "1079.0    119\n",
      "1084.0    118\n",
      "Name: count, dtype: int64\n",
      "Хвост 10 частот для BTCUSDT на T3\n",
      "receive_ts_diff\n",
      "2221727.0    1\n",
      "2288622.0    1\n",
      "2316122.0    1\n",
      "2333867.0    1\n",
      "2334817.0    1\n",
      "2341469.0    1\n",
      "2443704.0    1\n",
      "2507638.0    1\n",
      "3083632.0    1\n",
      "5204183.0    1\n",
      "Name: count, dtype: int64\n",
      "---\n",
      "Топ 10 частот для 1000PEPEUSDT на T1\n",
      "receive_ts_diff\n",
      "6000.0     7909\n",
      "12000.0    3644\n",
      "18000.0    2442\n",
      "6001.0     2125\n",
      "24000.0    2113\n",
      "5999.0     2073\n",
      "2991.0     1968\n",
      "9009.0     1862\n",
      "30000.0    1579\n",
      "36000.0    1518\n",
      "Name: count, dtype: int64\n",
      "Хвост 10 частот для 1000PEPEUSDT на T1\n",
      "receive_ts_diff\n",
      "2681074.0    1\n",
      "2704271.0    1\n",
      "2957923.0    1\n",
      "2961861.0    1\n",
      "3020688.0    1\n",
      "3211632.0    1\n",
      "3239442.0    1\n",
      "4260172.0    1\n",
      "4940725.0    1\n",
      "5357998.0    1\n",
      "Name: count, dtype: int64\n",
      "---\n",
      "Топ 10 частот для 1000PEPEUSDT на T3\n",
      "receive_ts_diff\n",
      "1040.0    228\n",
      "1069.0    223\n",
      "1037.0    222\n",
      "1024.0    219\n",
      "1038.0    217\n",
      "1043.0    216\n",
      "1080.0    215\n",
      "1036.0    215\n",
      "1106.0    213\n",
      "1049.0    212\n",
      "Name: count, dtype: int64\n",
      "Хвост 10 частот для 1000PEPEUSDT на T3\n",
      "receive_ts_diff\n",
      "2681583.0    1\n",
      "2704363.0    1\n",
      "2957710.0    1\n",
      "2961048.0    1\n",
      "3022699.0    1\n",
      "3213024.0    1\n",
      "3241400.0    1\n",
      "4257515.0    1\n",
      "4940397.0    1\n",
      "5356191.0    1\n",
      "Name: count, dtype: int64\n",
      "---\n"
     ]
    }
   ],
   "execution_count": 165
  },
  {
   "metadata": {
    "ExecuteTime": {
     "end_time": "2025-01-21T10:48:55.123031Z",
     "start_time": "2025-01-21T10:48:52.318995Z"
    }
   },
   "cell_type": "code",
   "source": [
    "data = trade_data['receive_ts_diff'].round(3).value_counts().sort_index()\n",
    "data.plot(title=f\"Receive_ts diff for T3\")\n",
    "plt.show()"
   ],
   "id": "45c6c52e7775e8f2",
   "outputs": [
    {
     "data": {
      "text/plain": [
       "<Figure size 640x480 with 1 Axes>"
      ],
      "image/png": "[encoded data removed]"
     },
     "metadata": {},
     "output_type": "display_data"
    }
   ],
   "execution_count": 11
  },
  {
   "metadata": {
    "ExecuteTime": {
     "end_time": "2025-01-21T10:49:54.348088Z",
     "start_time": "2025-01-21T10:49:54.058924Z"
    }
   },
   "cell_type": "code",
   "source": [
    "# Выведем максимальные средние и минимальные значения по серверам\n",
    "\n",
    "print(\"T3\")\n",
    "print(f\"Max: {trade_data['receive_ts_diff'].max()}\")\n",
    "print(f\"Mean: {trade_data['receive_ts_diff'].mean().round(7)}\")\n",
    "print(f\"Min: {trade_data['receive_ts_diff'].min().round(7):.5f}\")\n",
    "print()"
   ],
   "id": "eee10373154fda21",
   "outputs": [
    {
     "name": "stdout",
     "output_type": "stream",
     "text": [
      "T3\n",
      "Max: 80.3271\n",
      "Mean: 0.0024487\n",
      "Min: -86399.96704\n",
      "\n"
     ]
    }
   ],
   "execution_count": 13
  },
  {
   "metadata": {},
   "cell_type": "markdown",
   "source": [
    "## Выводы\n",
    "\n",
    "- Средние значения `receive_ts_diff` для всех данных на сервере `T1` выше, чем на сервере `T3`.\n",
    "- Максимальные значения `receive_ts_diff` для всех данных на сервере `T1` выше, чем на сервере `T3`.\n",
    "- Минимальные значения `receive_ts_diff` для всех данных на сервере `T1` ниже, чем на сервере `T3`.\n"
   ],
   "id": "8f837c03f361b916"
  },
  {
   "metadata": {
    "ExecuteTime": {
     "end_time": "2025-01-18T18:23:15.398859Z",
     "start_time": "2025-01-18T18:11:31.856215Z"
    }
   },
   "cell_type": "code",
   "source": [
    "# Посчитаем количество значений, аггрегируем их используя count_values и выведем в таблицу и сохраним в csv, проанализируем их. Максимальное минимальное и среднее значение\n",
    "for security in SECURITIES:\n",
    "    for server in SERVERS:\n",
    "        # data = .value_counts().sort_index()\n",
    "        print(f\"Security: {security}, Server: {server}\")\n",
    "        print(trade_data[security][server]['receive_ts_diff'].describe())\n",
    "        print()\n",
    "\n",
    "\n"
   ],
   "id": "581e8f9dd3a2b8ab",
   "outputs": [
    {
     "name": "stdout",
     "output_type": "stream",
     "text": [
      "Security: BTCUSDT, Server: T1\n",
      "count    4.816600e+05\n",
      "mean     8.967867e+04\n",
      "std      1.341813e+05\n",
      "min      1.400000e+01\n",
      "25%      1.026800e+04\n",
      "50%      3.992200e+04\n",
      "75%      1.131402e+05\n",
      "max      5.201854e+06\n",
      "Name: receive_ts_diff, dtype: float64\n",
      "\n",
      "Security: BTCUSDT, Server: T3\n",
      "count    5.030060e+05\n",
      "mean     8.587260e+04\n",
      "std      1.325095e+05\n",
      "min      4.600000e+01\n",
      "25%      7.670000e+03\n",
      "50%      3.599950e+04\n",
      "75%      1.075358e+05\n",
      "max      5.204183e+06\n",
      "Name: receive_ts_diff, dtype: float64\n",
      "\n",
      "Security: 1000PEPEUSDT, Server: T1\n",
      "count    5.089590e+05\n",
      "mean     8.487896e+04\n",
      "std      1.500758e+05\n",
      "min      1.400000e+01\n",
      "25%      4.785000e+03\n",
      "50%      2.412900e+04\n",
      "75%      9.751300e+04\n",
      "max      5.357998e+06\n",
      "Name: receive_ts_diff, dtype: float64\n",
      "\n",
      "Security: 1000PEPEUSDT, Server: T3\n",
      "count    5.451990e+05\n",
      "mean     7.923696e+04\n",
      "std      1.465160e+05\n",
      "min      4.200000e+01\n",
      "25%      2.991000e+03\n",
      "50%      1.938300e+04\n",
      "75%      8.861800e+04\n",
      "max      5.356191e+06\n",
      "Name: receive_ts_diff, dtype: float64\n",
      "\n"
     ]
    }
   ],
   "execution_count": 168
  }
 ],
 "metadata": {
  "kernelspec": {
   "display_name": "Python 3",
   "language": "python",
   "name": "python3"
  },
  "language_info": {
   "codemirror_mode": {
    "name": "ipython",
    "version": 2
   },
   "file_extension": ".py",
   "mimetype": "text/x-python",
   "name": "python",
   "nbconvert_exporter": "python",
   "pygments_lexer": "ipython2",
   "version": "2.7.6"
  }
 },
 "nbformat": 4,
 "nbformat_minor": 5
}
